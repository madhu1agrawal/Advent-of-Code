{
 "cells": [
  {
   "cell_type": "markdown",
   "id": "460efd7b-39ce-400c-8e0c-ee70c0b54620",
   "metadata": {},
   "source": [
    "# Day 1"
   ]
  },
  {
   "cell_type": "markdown",
   "id": "2b442df7-5804-451c-92ea-af64b4e59197",
   "metadata": {},
   "source": [
    "### Part 1"
   ]
  },
  {
   "cell_type": "code",
   "execution_count": 1,
   "id": "0377ad82-1639-4c0c-bf64-fb9d0d87e4e0",
   "metadata": {},
   "outputs": [
    {
     "name": "stdout",
     "output_type": "stream",
     "text": [
      "69836\n"
     ]
    }
   ],
   "source": [
    "temp = 0\n",
    "elf_cal = []\n",
    "with open('input1.txt') as f:\n",
    "    for line in f:\n",
    "        if  line.strip():\n",
    "            temp = temp + int(line.strip())\n",
    "        else:\n",
    "            elf_cal.append(temp)\n",
    "            temp = 0\n",
    "print(max(elf_cal))"
   ]
  },
  {
   "cell_type": "markdown",
   "id": "eb90d8e7-83c4-425b-ac4c-18919d4e8c45",
   "metadata": {},
   "source": [
    "### Part 2"
   ]
  },
  {
   "cell_type": "code",
   "execution_count": 2,
   "id": "bdeb2552-5a22-4ebc-8a41-2296ef25737e",
   "metadata": {},
   "outputs": [
    {
     "name": "stdout",
     "output_type": "stream",
     "text": [
      "207968\n"
     ]
    }
   ],
   "source": [
    "temp = 0\n",
    "elf_cal = []\n",
    "with open('input1.txt') as f:\n",
    "    for line in f:\n",
    "        if  line.strip():\n",
    "            temp = temp + int(line.strip())\n",
    "        else:\n",
    "            elf_cal.append(temp)\n",
    "            temp = 0\n",
    "elf_cal.sort(reverse=True)\n",
    "top3 = elf_cal[0] + elf_cal[1] + elf_cal[2]\n",
    "print(top3)"
   ]
  },
  {
   "cell_type": "markdown",
   "id": "e4734b04-c6dd-423d-bbb5-37e6029e78c0",
   "metadata": {},
   "source": [
    "# Day 2"
   ]
  },
  {
   "cell_type": "markdown",
   "id": "6283efb4-42cc-467d-8d81-e053c656ae8a",
   "metadata": {},
   "source": [
    "### Part 1"
   ]
  },
  {
   "cell_type": "code",
   "execution_count": 3,
   "id": "7ed7eb2e-e73d-452c-aa6a-0b4715c2c9e8",
   "metadata": {},
   "outputs": [
    {
     "name": "stdout",
     "output_type": "stream",
     "text": [
      "12276\n"
     ]
    }
   ],
   "source": [
    "import pandas as pd\n",
    "\n",
    "df = pd.read_csv('input2.txt', delimiter=\" \", header=None)\n",
    "df = df.replace(['A', 'B', 'C'], ['X', 'Y', 'Z'])\n",
    "\n",
    "score=0\n",
    "for index, row in df.iterrows():\n",
    "    if row[1]=='X':\n",
    "        score += 1\n",
    "    elif row[1]=='Y':\n",
    "        score += 2\n",
    "    else:\n",
    "        score+=3\n",
    "    if row[0]==row[1]:\n",
    "        score += 3\n",
    "    if row[0]=='X' and row[1]=='Y':\n",
    "        score+=6\n",
    "    if row[0]=='X' and row[1]=='Z':\n",
    "        score+=0\n",
    "    if row[0]=='Y' and row[1]=='X':\n",
    "        score+=0\n",
    "    if row[0]=='Y' and row[1]=='Z':\n",
    "        score+=6\n",
    "    if row[0]=='Z' and row[1]=='X':\n",
    "        score+=6\n",
    "    if row[0]=='Z' and row[1]=='Y':\n",
    "        score+=0\n",
    "print(score)"
   ]
  },
  {
   "cell_type": "markdown",
   "id": "f3a65858-bb69-4a55-a790-3eef8fc439bd",
   "metadata": {},
   "source": [
    "### Part 2"
   ]
  },
  {
   "cell_type": "code",
   "execution_count": 4,
   "id": "9503baae-7cc7-47cc-a641-75cd04b8a274",
   "metadata": {},
   "outputs": [
    {
     "name": "stdout",
     "output_type": "stream",
     "text": [
      "9975\n"
     ]
    }
   ],
   "source": [
    "import pandas as pd\n",
    "\n",
    "df = pd.read_csv('input2.txt', delimiter=\" \", header=None)\n",
    "df = df.replace(['A', 'B', 'C'], [1, 2, 3])\n",
    "\n",
    "score=0\n",
    "for index, row in df.iterrows():\n",
    "    if row[1]=='X':\n",
    "        score += 0\n",
    "    elif row[1]=='Y':\n",
    "        score += 3\n",
    "    else:\n",
    "        score+=6\n",
    "    if row[1]=='Y':\n",
    "        score += row[0]\n",
    "    if row[0]==1 and row[1]=='X':\n",
    "        score+=3\n",
    "    if row[0]==1 and row[1]=='Z':\n",
    "        score+=2\n",
    "    if row[0]==2 and row[1]=='X':\n",
    "        score+=1\n",
    "    if row[0]==2 and row[1]=='Z':\n",
    "        score+=3\n",
    "    if row[0]==3 and row[1]=='X':\n",
    "        score+=2\n",
    "    if row[0]==3 and row[1]=='Z':\n",
    "        score+=1\n",
    "print(score)"
   ]
  },
  {
   "cell_type": "markdown",
   "id": "8793e31a-2a16-4b94-ac9b-a64ba17b026a",
   "metadata": {},
   "source": [
    "# Day 3"
   ]
  },
  {
   "cell_type": "markdown",
   "id": "b43eb16a-ebe4-41ba-967f-660f4be34895",
   "metadata": {},
   "source": [
    "### Part 1"
   ]
  },
  {
   "cell_type": "code",
   "execution_count": 5,
   "id": "9d213a4e-44a8-406d-8bc4-53bdd4b9dbbe",
   "metadata": {},
   "outputs": [
    {
     "name": "stdout",
     "output_type": "stream",
     "text": [
      "7428\n"
     ]
    }
   ],
   "source": [
    "import string\n",
    "\n",
    "alpha_dict = {}\n",
    "value = 1\n",
    "lower = list(string.ascii_lowercase)\n",
    "upper = list(string.ascii_uppercase)\n",
    "alphabates = lower + upper\n",
    "\n",
    "for alphabate in alphabates:\n",
    "    alpha_dict[alphabate] = value\n",
    "    value += 1\n",
    "    \n",
    "score = 0\n",
    "elf_cal = []\n",
    "with open('input3.txt') as f:\n",
    "    for line in f:\n",
    "        line = line.strip()\n",
    "        set1 = set(line[:len(line)//2])\n",
    "        set2 = set(line[len(line)//2:])\n",
    "        alpha = set1.intersection(set2).pop()\n",
    "        score = score + alpha_dict[alpha]\n",
    "print(score)"
   ]
  },
  {
   "cell_type": "markdown",
   "id": "c92918ec-b99e-42c1-9bcd-33e3ed7b8cf6",
   "metadata": {},
   "source": [
    "### Part 2"
   ]
  },
  {
   "cell_type": "code",
   "execution_count": 6,
   "id": "aac66270-7fcb-483f-9590-2bb7e244679d",
   "metadata": {},
   "outputs": [
    {
     "name": "stdout",
     "output_type": "stream",
     "text": [
      "2650\n"
     ]
    }
   ],
   "source": [
    "import string\n",
    "\n",
    "alpha_dict = {}\n",
    "value = 1\n",
    "lower = list(string.ascii_lowercase)\n",
    "upper = list(string.ascii_uppercase)\n",
    "alphabates = lower + upper\n",
    "\n",
    "for alphabate in alphabates:\n",
    "    alpha_dict[alphabate] = value\n",
    "    value += 1\n",
    "    \n",
    "score = 0\n",
    "with open('input3.txt') as f:\n",
    "    while True:\n",
    "        set1 = set(f.readline().strip())\n",
    "        set2 = set(f.readline().strip())\n",
    "        set3 = set(f.readline().strip())\n",
    "        if not set1:\n",
    "            break\n",
    "        alpha = (set1 & set2 & set3).pop()\n",
    "        score = score + alpha_dict[alpha]\n",
    "        \n",
    "        if not set1:\n",
    "            break\n",
    "print(score)"
   ]
  },
  {
   "cell_type": "markdown",
   "id": "224d4c69-86d9-4d9a-9050-e466177d1ef1",
   "metadata": {},
   "source": [
    "# Day 4"
   ]
  },
  {
   "cell_type": "markdown",
   "id": "2f4ce28c-a6b8-49ce-b986-a38b44440c5c",
   "metadata": {},
   "source": [
    "### Part 1"
   ]
  },
  {
   "cell_type": "code",
   "execution_count": 7,
   "id": "9eeaf74e-1638-4fd0-86e9-641108534ed5",
   "metadata": {},
   "outputs": [
    {
     "name": "stdout",
     "output_type": "stream",
     "text": [
      "444\n"
     ]
    }
   ],
   "source": [
    "count = 0\n",
    "with open('input4.txt') as f:\n",
    "    while True:\n",
    "        line = f.readline().strip()\n",
    "\n",
    "        if not line:\n",
    "            break\n",
    "        l1 = int(line.split(',')[0].split('-')[0])\n",
    "        u1 = int(line.split(',')[0].split('-')[1])\n",
    "\n",
    "        l2 = int(line.split(',')[1].split('-')[0])\n",
    "        u2 = int(line.split(',')[1].split('-')[1])\n",
    "\n",
    "        set1 = set(range(l1, u1+1))\n",
    "        set2 = set(range(l2, u2+1))\n",
    "        \n",
    "        if (set1 <= set2) or (set2 <= set1):\n",
    "            count += 1\n",
    "            \n",
    "print(count)"
   ]
  },
  {
   "cell_type": "markdown",
   "id": "50565d2c-56e1-4369-8d7d-b639e1348db1",
   "metadata": {},
   "source": [
    "### part2"
   ]
  },
  {
   "cell_type": "code",
   "execution_count": 8,
   "id": "0f094dad-7e1c-42b4-8b9e-232810fab37c",
   "metadata": {},
   "outputs": [
    {
     "name": "stdout",
     "output_type": "stream",
     "text": [
      "801\n"
     ]
    }
   ],
   "source": [
    "count = 0\n",
    "with open('input4.txt') as f:\n",
    "    while True:\n",
    "        line = f.readline().strip()\n",
    "\n",
    "        if not line:\n",
    "            break\n",
    "        l1 = int(line.split(',')[0].split('-')[0])\n",
    "        u1 = int(line.split(',')[0].split('-')[1])\n",
    "\n",
    "        l2 = int(line.split(',')[1].split('-')[0])\n",
    "        u2 = int(line.split(',')[1].split('-')[1])\n",
    "\n",
    "        set1 = set(range(l1, u1+1))\n",
    "        set2 = set(range(l2, u2+1))\n",
    "        \n",
    "        if set1.intersection(set2):\n",
    "            count += 1\n",
    "            \n",
    "print(count)"
   ]
  },
  {
   "cell_type": "markdown",
   "id": "3ee9a6ee-76b2-4ccb-9cd0-a003634bee13",
   "metadata": {},
   "source": [
    "# Day 5"
   ]
  },
  {
   "cell_type": "markdown",
   "id": "db521daa-bfab-4d3c-b47c-84ddddeb7ba8",
   "metadata": {},
   "source": [
    "### Part 1"
   ]
  },
  {
   "cell_type": "code",
   "execution_count": 3,
   "id": "ed80f634-6bc2-426f-8e2e-e46d9e376d28",
   "metadata": {},
   "outputs": [
    {
     "name": "stdout",
     "output_type": "stream",
     "text": [
      "BWNCQRMDB\n"
     ]
    }
   ],
   "source": [
    "import numpy as np\n",
    "\n",
    "with open('input5.txt') as f:\n",
    "    lines = f.readlines()\n",
    "    \n",
    "stacks = []\n",
    "for line in lines:\n",
    "    list1 = []\n",
    "    if line.strip():\n",
    "        line = line.replace('\\n','').replace('    ',' 0 ').replace('[','').replace(']','').replace(' ','')\n",
    "        for x in line:\n",
    "            list1.append(x)  \n",
    "        stacks.append(list1)               \n",
    "    else:\n",
    "        break\n",
    "stacks = np.array(stacks).T\n",
    "stacks = np.flip(stacks, axis=1).tolist()\n",
    "stacks = {row[0]: row[1:] for row in stacks}\n",
    "for key in stacks:\n",
    "    while '0' in stacks[key]:\n",
    "        stacks[key].pop()\n",
    "\n",
    "count=0\n",
    "with open('input5.txt') as f:\n",
    "    lines = f.readlines()\n",
    "    \n",
    "    for line in lines:\n",
    "        if count <= len(stacks):\n",
    "            count+=1\n",
    "        else:\n",
    "            number = line.strip().split(' ')[1]\n",
    "            source = line.strip().split(' ')[3]\n",
    "            dest = line.strip().split(' ')[5]\n",
    "            \n",
    "            for crates in range(1,int(number)+1):\n",
    "                move_crate = stacks[source].pop()\n",
    "                stacks[dest].append(move_crate)\n",
    "    output = ''           \n",
    "    for key in stacks:\n",
    "        output = output + stacks[key].pop()\n",
    "print(output)"
   ]
  },
  {
   "cell_type": "markdown",
   "id": "132b2375-2551-42cb-9c6a-228bc73d9b30",
   "metadata": {},
   "source": [
    "### Part 2"
   ]
  },
  {
   "cell_type": "code",
   "execution_count": 4,
   "id": "d13560bf-a70f-41e5-9074-06f22d9fab2a",
   "metadata": {},
   "outputs": [
    {
     "name": "stdout",
     "output_type": "stream",
     "text": [
      "NHWZCBNBF\n"
     ]
    }
   ],
   "source": [
    "import numpy as np\n",
    "\n",
    "with open('input5.txt') as f:\n",
    "    lines = f.readlines()\n",
    "    \n",
    "stacks = []\n",
    "for line in lines:\n",
    "    list1 = []\n",
    "    if line.strip():\n",
    "        line = line.replace('\\n','').replace('    ',' 0 ').replace('[','').replace(']','').replace(' ','')\n",
    "        for x in line:\n",
    "            list1.append(x)  \n",
    "        stacks.append(list1)               \n",
    "    else:\n",
    "        break\n",
    "stacks = np.array(stacks).T\n",
    "stacks = np.flip(stacks, axis=1).tolist()\n",
    "stacks = {row[0]: row[1:] for row in stacks}\n",
    "for key in stacks:\n",
    "    while '0' in stacks[key]:\n",
    "        stacks[key].pop()\n",
    "        \n",
    "count=0\n",
    "with open('input5.txt') as f:\n",
    "    lines = f.readlines()\n",
    "    \n",
    "for line in lines:\n",
    "\n",
    "    temp_stack=[]\n",
    "    if count <= len(stacks):\n",
    "        count+=1\n",
    "    else:\n",
    "        number = line.strip().split(' ')[1]\n",
    "        source = line.strip().split(' ')[3]\n",
    "        dest = line.strip().split(' ')[5]\n",
    "\n",
    "        if int(number)==1:\n",
    "            move_crate = stacks[source].pop()\n",
    "            stacks[dest].append(move_crate)\n",
    "        else:\n",
    "            for crates in range(1,int(number)+1):\n",
    "                temp_stack.append(stacks[source].pop())\n",
    "            for i in range(0,len(temp_stack)):\n",
    "                stacks[dest].append(temp_stack.pop())\n",
    "\n",
    "            \n",
    "output = ''           \n",
    "for key in stacks:\n",
    "    output = output + stacks[key].pop()\n",
    "print(output)"
   ]
  },
  {
   "cell_type": "markdown",
   "id": "60b2525e-9a93-4c1e-be7b-2d0d4d9ba4c8",
   "metadata": {},
   "source": [
    "# Day 6"
   ]
  },
  {
   "cell_type": "markdown",
   "id": "c138c70b-73da-4924-8ee5-6ef8001a0af8",
   "metadata": {},
   "source": [
    "### Part 1"
   ]
  },
  {
   "cell_type": "code",
   "execution_count": 72,
   "id": "7625b6e0-2257-4650-915d-4e69622c7353",
   "metadata": {},
   "outputs": [
    {
     "name": "stdout",
     "output_type": "stream",
     "text": [
      "bdjq\n",
      "1578\n"
     ]
    }
   ],
   "source": [
    "with open('input6.txt') as f:\n",
    "    line = f.readline().strip()\n",
    "\n",
    "for i in range(4,len(line),1):\n",
    "    if len(set(line[i-4:i]))==4: \n",
    "        print(line[i-4:i])\n",
    "        print(i)\n",
    "        break"
   ]
  },
  {
   "cell_type": "markdown",
   "id": "16aaf11d-8213-412e-b9cf-77110b3fd844",
   "metadata": {},
   "source": [
    "### Part 2"
   ]
  },
  {
   "cell_type": "code",
   "execution_count": 74,
   "id": "96d65474-d037-4004-8285-65b1274a08d3",
   "metadata": {},
   "outputs": [
    {
     "name": "stdout",
     "output_type": "stream",
     "text": [
      "mdcbnwqgshpvfj\n",
      "2178\n"
     ]
    }
   ],
   "source": [
    "with open('input6.txt') as f:\n",
    "    line = f.readline().strip()\n",
    "\n",
    "for i in range(4,len(line),1):\n",
    "    if len(set(line[i-4:i]))==4: \n",
    "        break\n",
    "for j in range(i, len(line),1):\n",
    "    if len(set(line[j:j+14]))==14:\n",
    "        print(line[j:j+14])\n",
    "        print(j+14)\n",
    "        break"
   ]
  },
  {
   "cell_type": "markdown",
   "id": "e603f13a",
   "metadata": {},
   "source": [
    "# Day 7"
   ]
  },
  {
   "cell_type": "markdown",
   "id": "9967ade7",
   "metadata": {},
   "source": [
    "### Part 1"
   ]
  },
  {
   "cell_type": "code",
   "execution_count": 1,
   "id": "4872090b-5715-464c-a226-b06d4883c9d3",
   "metadata": {},
   "outputs": [],
   "source": [
    "with open('input7.txt') as f:\n",
    "    lines = f.readlines()\n",
    "\n",
    "dir_dict = {}\n",
    "current_dir = ''\n",
    "for line in lines:\n",
    "    if not line.strip() == '$ cd ..':\n",
    "        if line.startswith('$ cd '):\n",
    "            current_dir = line.strip().split(' ')[2]\n",
    "            dir_dict[current_dir] = []\n",
    "        elif line.startswith('dir'):\n",
    "            dir_dict[current_dir].append(line.strip().split(' ')[1])\n",
    "        elif line.strip().split(' ')[0].isnumeric():\n",
    "            dir_dict[current_dir].append(line.strip().split(' ')[0])   \n",
    "\n",
    "for key in dir_dict:\n",
    "    if all(item.isnumeric() for item in dir_dict[key]):\n",
    "        dir_dict[key] = str(sum([int(item) for item in dir_dict[key]]))"
   ]
  },
  {
   "cell_type": "code",
   "execution_count": 2,
   "id": "118301d3-2a3e-471d-96e1-5a048552a53a",
   "metadata": {},
   "outputs": [],
   "source": [
    "unresolved=True\n",
    "while(unresolved):\n",
    "    unresolved=False\n",
    "    for key in dir_dict:\n",
    "        if not all(item.isnumeric() for item in dir_dict[key]):\n",
    "            temp_list = dir_dict[key]\n",
    "            for item in dir_dict[key]:\n",
    "                if (item in dir_dict) and type(dir_dict[item]) is not list:\n",
    "                    temp_list.remove(item)\n",
    "                    temp_list.append(dir_dict[item])\n",
    "            dir_dict[key] = temp_list\n",
    "\n",
    "            if all(item.isnumeric() for item in dir_dict[key]):\n",
    "                dir_dict[key] = str(sum([int(item) for item in dir_dict[key]]))\n",
    "            else:\n",
    "                unresolved=True    "
   ]
  },
  {
   "cell_type": "code",
   "execution_count": 4,
   "id": "4e21a6c9-6a4d-4ff5-bd2d-7591052a2ffc",
   "metadata": {},
   "outputs": [
    {
     "data": {
      "text/plain": [
       "{'/': '32356027',\n",
       " 'gqlg': '183087',\n",
       " 'hchrwstr': '1499045',\n",
       " 'rzsrp': '229576',\n",
       " 'dvzvmsjz': '149823',\n",
       " 'zfn': '486260',\n",
       " 'shlhgj': '73040',\n",
       " 'slwwgc': '856006',\n",
       " 'lswlpt': '278572',\n",
       " 'plmdrbn': '303530',\n",
       " 'fmzjhrq': '76401',\n",
       " 'rrjjsvm': '66652',\n",
       " 'rjwmjd': '928686',\n",
       " 'twcrf': '492080',\n",
       " 'zwmmrqj': '311312',\n",
       " 'stqq': '2282920',\n",
       " 'hpgbcvtb': '978062',\n",
       " 'mqjfvg': '170328',\n",
       " 'llbthqc': '117161',\n",
       " 'whmdbn': '94821',\n",
       " 'zjhqnlrr': '25843087',\n",
       " 'bzzvj': '1192839',\n",
       " 'wjtlg': '97079',\n",
       " 'ddzmvh': '17744979',\n",
       " 'cpvfln': '1274833',\n",
       " 'sthhc': '1000355',\n",
       " 'slsj': '178013',\n",
       " 'vsvvprg': '102783',\n",
       " 'hgrnmh': '416943',\n",
       " 'mrnmbbt': '245579',\n",
       " 'hjpgf': '749373',\n",
       " 'mghmb': '6552296',\n",
       " 'bgrcsdc': '235762',\n",
       " 'btjq': '3398748',\n",
       " 'bvrcqb': '265137',\n",
       " 'drslln': '258102',\n",
       " 'dwzpblb': '302466',\n",
       " 'hnr': '1361298',\n",
       " 'fjd': '450522',\n",
       " 'mqp': '229576',\n",
       " 'pgwng': '218271',\n",
       " 'mdzdht': '421578',\n",
       " 'gfjqbdp': '143536',\n",
       " 'tvd': '238491',\n",
       " 'hvb': '709486',\n",
       " 'wpvssts': '305634',\n",
       " 'smmwg': '292543',\n",
       " 'fzsngr': '142687',\n",
       " 'rqtc': '344481',\n",
       " 'pbzhfsg': '41865',\n",
       " 'nvjqp': '270880',\n",
       " 'gcq': '270880',\n",
       " 'mslhm': '41304',\n",
       " 'mbsjjzft': '1502028',\n",
       " 'stgszvmj': '929734',\n",
       " 'dthcrbmr': '163854',\n",
       " 'lhp': '37925',\n",
       " 'npf': '77162',\n",
       " 'qbgrjr': '48767',\n",
       " 'wtlngn': '183087',\n",
       " 'cjmv': '140919',\n",
       " 'tns': '533308',\n",
       " 'qhhtgsvz': '68979',\n",
       " 'vsdz': '666584',\n",
       " 'jsrqjjtc': '245991',\n",
       " 'wrnftqh': '252462',\n",
       " 'gtwdqw': '299426',\n",
       " 'jts': '542874',\n",
       " 'jvp': '258220',\n",
       " 'jvrjcv': '623520',\n",
       " 'pvdwhmcr': '7685820',\n",
       " 'bhmmsbmb': '498410',\n",
       " 'nccjwf': '498410',\n",
       " 'drwhjfjn': '291772',\n",
       " 'bjwbvcq': '486260',\n",
       " 'ltvtrtth': '2323528',\n",
       " 'fwtwqvn': '472739',\n",
       " 'rqndc': '45124',\n",
       " 'mcgcc': '457433',\n",
       " 'ngvwhnvf': '207616',\n",
       " 'cwzbljh': '134952',\n",
       " 'zzsnz': '273014',\n",
       " 'prtqcb': '1735588',\n",
       " 'dtr': '1307000',\n",
       " 'grwpbs': '59390',\n",
       " 'rmn': '1216994',\n",
       " 'gtnvc': '28523',\n",
       " 'rsnqlfsz': '701690',\n",
       " 'nsfhtthc': '284747',\n",
       " 'lrths': '2148769',\n",
       " 'mvrlcvj': '121034',\n",
       " 'pfc': '183087',\n",
       " 'vlshvmvj': '122494',\n",
       " 'wsn': '722473',\n",
       " 'hgtqj': '214202',\n",
       " 'pmldlbbh': '263722',\n",
       " 'rwn': '279589',\n",
       " 'tmzcmb': '138557',\n",
       " 'vlbqvps': '701751',\n",
       " 'nmfnf': '578092',\n",
       " 'jhpnd': '290482',\n",
       " 'wmmfp': '94749',\n",
       " 'dsjd': '6150581',\n",
       " 'bwjp': '117739',\n",
       " 'dwhr': '364612',\n",
       " 'pmsgd': '51482',\n",
       " 'wbppspwq': '38834',\n",
       " 'jntt': '286866',\n",
       " 'vmph': '4195055',\n",
       " 'fnvpsr': '888545',\n",
       " 'flz': '106168',\n",
       " 'smd': '688941',\n",
       " 'drsld': '85885',\n",
       " 'gfnvsznj': '3082426',\n",
       " 'fqb': '465476',\n",
       " 'hdhmbtj': '967080',\n",
       " 'vdcbg': '261780',\n",
       " 'vrmrnt': '418820',\n",
       " 'lzdq': '425741',\n",
       " 'rlvqmwv': '655093',\n",
       " 'zvg': '85701',\n",
       " 'nnzvl': '105177',\n",
       " 'wwzsf': '105177',\n",
       " 'zssdlnc': '754545',\n",
       " 'nfgh': '102281',\n",
       " 'fbmww': '179734',\n",
       " 'jsst': '99924',\n",
       " 'flp': '99924'}"
      ]
     },
     "execution_count": 4,
     "metadata": {},
     "output_type": "execute_result"
    }
   ],
   "source": [
    "dir_dict"
   ]
  },
  {
   "cell_type": "code",
   "execution_count": 3,
   "id": "3603c886-aea3-47a1-90d8-09c8848bb115",
   "metadata": {},
   "outputs": [
    {
     "name": "stdout",
     "output_type": "stream",
     "text": [
      "1413531\n"
     ]
    }
   ],
   "source": [
    "sum=0\n",
    "for key in dir_dict:\n",
    "    if int(dir_dict[key]) <= 100000:\n",
    "        sum+=int(dir_dict[key])\n",
    "print(sum)"
   ]
  },
  {
   "cell_type": "markdown",
   "id": "1fae0778-a6b0-4841-b9d2-360f06d845a4",
   "metadata": {},
   "source": [
    "# Day 21"
   ]
  },
  {
   "cell_type": "markdown",
   "id": "53eade18-2cf5-4153-babd-80a75b22b64c",
   "metadata": {},
   "source": [
    "### Part 1"
   ]
  },
  {
   "cell_type": "code",
   "execution_count": 47,
   "id": "d1f844d9-86e1-4a30-8551-6bde1bd813c6",
   "metadata": {},
   "outputs": [
    {
     "name": "stdout",
     "output_type": "stream",
     "text": [
      "159591692827554.0\n"
     ]
    }
   ],
   "source": [
    "with open('input21.txt') as f:\n",
    "    lines = f.readlines()\n",
    "    \n",
    "monkey_names = {}\n",
    "for line in lines:\n",
    "    line = line.strip().split(': ')\n",
    "    if line[1].isnumeric():\n",
    "        monkey_names[line[0]] = line[1]\n",
    "\n",
    "unsolved = True\n",
    "while(unsolved):\n",
    "    unsolved = False\n",
    "    for index in range(0, len(lines)):\n",
    "        line = lines[index]\n",
    "        monkey_name = line.strip().split(': ')[0]\n",
    "        monkey_message = line.strip().split(': ')[1]\n",
    "\n",
    "        if not monkey_message.isnumeric():\n",
    "            monkey_1 = monkey_message.split(' ')[0]\n",
    "            monkey_2 = monkey_message.split(' ')[2]\n",
    "            modifier = monkey_message.split(' ')[1]\n",
    "\n",
    "            if (monkey_1 in monkey_names) and (monkey_2 in monkey_names):\n",
    "                monkey_names[monkey_name] = eval(str(monkey_names[monkey_1]) + modifier + str(monkey_names[monkey_2]))\n",
    "                monkey_names[monkey_name] = eval(str(monkey_names[monkey_1]) + modifier + str(monkey_names[monkey_2]))\n",
    "            else:\n",
    "                unsolved = True\n",
    "        if 'root' in monkey_names:\n",
    "            print(monkey_names['root'])\n",
    "            break"
   ]
  },
  {
   "cell_type": "code",
   "execution_count": null,
   "id": "601add89-780c-44c1-9c15-8d105686c09a",
   "metadata": {},
   "outputs": [],
   "source": []
  }
 ],
 "metadata": {
  "kernelspec": {
   "display_name": "Python 3 (ipykernel)",
   "language": "python",
   "name": "python3"
  },
  "language_info": {
   "codemirror_mode": {
    "name": "ipython",
    "version": 3
   },
   "file_extension": ".py",
   "mimetype": "text/x-python",
   "name": "python",
   "nbconvert_exporter": "python",
   "pygments_lexer": "ipython3",
   "version": "3.9.7"
  }
 },
 "nbformat": 4,
 "nbformat_minor": 5
}
